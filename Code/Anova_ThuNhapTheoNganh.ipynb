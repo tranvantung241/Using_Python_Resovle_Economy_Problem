{
 "cells": [
  {
   "cell_type": "code",
   "execution_count": 1,
   "metadata": {},
   "outputs": [
    {
     "name": "stderr",
     "output_type": "stream",
     "text": [
      "C:\\Users\\TranTung\\Anaconda3\\envs\\py27\\lib\\site-packages\\statsmodels\\compat\\pandas.py:56: FutureWarning: The pandas.core.datetools module is deprecated and will be removed in a future version. Please use the pandas.tseries module instead.\n",
      "  from pandas.core import datetools\n"
     ]
    }
   ],
   "source": [
    "import pandas as pd\n",
    "import statsmodels.api as sm\n",
    "from statsmodels.formula.api import ols "
   ]
  },
  {
   "cell_type": "code",
   "execution_count": 2,
   "metadata": {},
   "outputs": [
    {
     "name": "stdout",
     "output_type": "stream",
     "text": [
      "C:\\Users\\TranTung\\Desktop\\DuLieu\n"
     ]
    }
   ],
   "source": [
    " cd C:\\Users\\TranTung\\Desktop\\DuLieu"
   ]
  },
  {
   "cell_type": "code",
   "execution_count": 3,
   "metadata": {},
   "outputs": [],
   "source": [
    "ThuNhap = pd.read_csv('Data_ThuNhapTheoNganh_Anovaa.csv')"
   ]
  },
  {
   "cell_type": "code",
   "execution_count": 4,
   "metadata": {},
   "outputs": [
    {
     "data": {
      "text/html": [
       "<div>\n",
       "<style scoped>\n",
       "    .dataframe tbody tr th:only-of-type {\n",
       "        vertical-align: middle;\n",
       "    }\n",
       "\n",
       "    .dataframe tbody tr th {\n",
       "        vertical-align: top;\n",
       "    }\n",
       "\n",
       "    .dataframe thead th {\n",
       "        text-align: right;\n",
       "    }\n",
       "</style>\n",
       "<table border=\"1\" class=\"dataframe\">\n",
       "  <thead>\n",
       "    <tr style=\"text-align: right;\">\n",
       "      <th></th>\n",
       "      <th>Luong</th>\n",
       "      <th>Nganh</th>\n",
       "    </tr>\n",
       "  </thead>\n",
       "  <tbody>\n",
       "    <tr>\n",
       "      <th>0</th>\n",
       "      <td>3688.7</td>\n",
       "      <td>ThongTinTruyenThong</td>\n",
       "    </tr>\n",
       "    <tr>\n",
       "      <th>1</th>\n",
       "      <td>4518.3</td>\n",
       "      <td>ThongTinTruyenThong</td>\n",
       "    </tr>\n",
       "    <tr>\n",
       "      <th>2</th>\n",
       "      <td>4820.4</td>\n",
       "      <td>ThongTinTruyenThong</td>\n",
       "    </tr>\n",
       "    <tr>\n",
       "      <th>3</th>\n",
       "      <td>4973.7</td>\n",
       "      <td>ThongTinTruyenThong</td>\n",
       "    </tr>\n",
       "    <tr>\n",
       "      <th>4</th>\n",
       "      <td>5104.5</td>\n",
       "      <td>ThongTinTruyenThong</td>\n",
       "    </tr>\n",
       "  </tbody>\n",
       "</table>\n",
       "</div>"
      ],
      "text/plain": [
       "    Luong                Nganh\n",
       "0  3688.7  ThongTinTruyenThong\n",
       "1  4518.3  ThongTinTruyenThong\n",
       "2  4820.4  ThongTinTruyenThong\n",
       "3  4973.7  ThongTinTruyenThong\n",
       "4  5104.5  ThongTinTruyenThong"
      ]
     },
     "execution_count": 4,
     "metadata": {},
     "output_type": "execute_result"
    }
   ],
   "source": [
    "ThuNhap.head()"
   ]
  },
  {
   "cell_type": "code",
   "execution_count": 5,
   "metadata": {},
   "outputs": [
    {
     "name": "stdout",
     "output_type": "stream",
     "text": [
      "                sum_sq    df         F    PR(>F)\n",
      "Nganh     2.279763e+07   3.0  4.290251  0.010937\n",
      "Residual  6.376587e+07  36.0       NaN       NaN\n"
     ]
    }
   ],
   "source": [
    "cw_lm=ols('Luong ~ Nganh ', data=ThuNhap).fit() \n",
    "print(sm.stats.anova_lm(cw_lm, typ=2))"
   ]
  },
  {
   "cell_type": "code",
   "execution_count": 6,
   "metadata": {},
   "outputs": [],
   "source": [
    "from statsmodels.stats.multicomp import pairwise_tukeyhsd\n",
    "from statsmodels.stats.multicomp import MultiComparison"
   ]
  },
  {
   "cell_type": "code",
   "execution_count": 7,
   "metadata": {},
   "outputs": [
    {
     "name": "stdout",
     "output_type": "stream",
     "text": [
      "             Multiple Comparison of Means - Tukey HSD,FWER=0.05             \n",
      "============================================================================\n",
      "       group1              group2       meandiff   lower      upper   reject\n",
      "----------------------------------------------------------------------------\n",
      "  GiaoDucVaDaoTao   ThongTinTruyenThong 1709.83   106.8236  3312.8364  True \n",
      "  GiaoDucVaDaoTao      VuiChoiGiaiTri   -134.25  -1737.2564 1468.7564 False \n",
      "  GiaoDucVaDaoTao           Yte          55.15   -1547.8564 1658.1564 False \n",
      "ThongTinTruyenThong    VuiChoiGiaiTri   -1844.08 -3447.0864 -241.0736  True \n",
      "ThongTinTruyenThong         Yte         -1654.68 -3257.6864  -51.6736  True \n",
      "   VuiChoiGiaiTri           Yte          189.4   -1413.6064 1792.4064 False \n",
      "----------------------------------------------------------------------------\n",
      "['GiaoDucVaDaoTao' 'ThongTinTruyenThong' 'VuiChoiGiaiTri' 'Yte']\n"
     ]
    }
   ],
   "source": [
    "mc = MultiComparison(ThuNhap['Luong'], ThuNhap['Nganh'])\n",
    "result = mc.tukeyhsd()\n",
    " \n",
    "print(result)\n",
    "print(mc.groupsunique)"
   ]
  },
  {
   "cell_type": "code",
   "execution_count": 8,
   "metadata": {},
   "outputs": [],
   "source": [
    "import matplotlib.pyplot as pl\n",
    "import seaborn as sns"
   ]
  },
  {
   "cell_type": "code",
   "execution_count": 9,
   "metadata": {},
   "outputs": [
    {
     "data": {
      "image/png": "[encoded data removed]",
      "text/plain": [
       "<matplotlib.figure.Figure at 0xb0ce630>"
      ]
     },
     "metadata": {},
     "output_type": "display_data"
    }
   ],
   "source": [
    " ax = sns.boxplot(x = 'Nganh', y= 'Luong', data = ThuNhap)"
   ]
  },
  {
   "cell_type": "code",
   "execution_count": 10,
   "metadata": {},
   "outputs": [],
   "source": [
    "# import matplotlib.pyplot as pl\n",
    "# import numpy as np \n",
    "# from scipy import stats\n",
    "# from statsmodels.stats.multicomp import (pairwise_tukeyhsd,MultiComparison)\n",
    "\n",
    "# res2 = pairwise_tukeyhsd(HoNgheo['TyLe'], HoNgheo['DiaDiem'])\n",
    "# mod = MultiComparison(HoNgheo['TyLe'], HoNgheo['DiaDiem'])\n",
    " \n",
    "# pl.plot([0,1,2], res2[1][2], 'o')\n",
    "# pl.errorbar([0,1,2], res2[1][2], yerr=np.abs(res2[1][4].T-res2[1][2]), ls='o')\n",
    "# xlim = -0.5, 2.5\n",
    "# pl.hlines(0, *xlim)\n",
    "# pl.xlim(*xlim)\n",
    "# pair_labels = mod.groupsunique[np.column_stack(res2[1][0])]\n",
    "# pl.xticks([0,1,2], pair_labels)\n",
    "# pl.title('Multiple Comparison of Means - Tukey HSD, FWER=0.05' +\n",
    "#           '\\n Pairwise Mean Differences')"
   ]
  },
  {
   "cell_type": "code",
   "execution_count": null,
   "metadata": {},
   "outputs": [],
   "source": [
    " "
   ]
  }
 ],
 "metadata": {
  "kernelspec": {
   "display_name": "Python 2",
   "language": "python",
   "name": "python2"
  },
  "language_info": {
   "codemirror_mode": {
    "name": "ipython",
    "version": 2
   },
   "file_extension": ".py",
   "mimetype": "text/x-python",
   "name": "python",
   "nbconvert_exporter": "python",
   "pygments_lexer": "ipython2",
   "version": "2.7.14"
  }
 },
 "nbformat": 4,
 "nbformat_minor": 2
}
