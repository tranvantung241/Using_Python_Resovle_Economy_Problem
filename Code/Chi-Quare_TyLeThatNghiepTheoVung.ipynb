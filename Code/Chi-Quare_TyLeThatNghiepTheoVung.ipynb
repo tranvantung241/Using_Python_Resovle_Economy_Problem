{
 "cells": [
  {
   "cell_type": "code",
   "execution_count": 1,
   "metadata": {},
   "outputs": [],
   "source": [
    "import pandas as pd\n",
    "import numpy as np"
   ]
  },
  {
   "cell_type": "code",
   "execution_count": 2,
   "metadata": {},
   "outputs": [
    {
     "name": "stdout",
     "output_type": "stream",
     "text": [
      "C:\\Users\\TranTung\\Desktop\\DuLieu\n"
     ]
    }
   ],
   "source": [
    " cd C:\\Users\\TranTung\\Desktop\\DuLieu "
   ]
  },
  {
   "cell_type": "code",
   "execution_count": 4,
   "metadata": {},
   "outputs": [
    {
     "data": {
      "text/plain": [
       "(1.1201239066801532, 0.952306993137951, 5L, array([[3.53839514, 1.82160486],\n",
       "        [2.52836817, 1.30163183],\n",
       "        [4.33057316, 2.22942684],\n",
       "        [1.87482131, 0.96517869],\n",
       "        [3.44597438, 1.77402562],\n",
       "        [3.86186784, 1.98813216]]))"
      ]
     },
     "execution_count": 4,
     "metadata": {},
     "output_type": "execute_result"
    }
   ],
   "source": [
    "a = np.array([[3.42, 1.94], [3.11, 0.72],[4.51, 2.05]\n",
    "              ,[2.27, 0.57],[3.05, 2.17],[3.22, 2.63]])\n",
    "\n",
    "from scipy.stats import chi2_contingency\n",
    "chi2_contingency(a)"
   ]
  },
  {
   "cell_type": "code",
   "execution_count": null,
   "metadata": {},
   "outputs": [],
   "source": []
  }
 ],
 "metadata": {
  "kernelspec": {
   "display_name": "Python 2",
   "language": "python",
   "name": "python2"
  },
  "language_info": {
   "codemirror_mode": {
    "name": "ipython",
    "version": 2
   },
   "file_extension": ".py",
   "mimetype": "text/x-python",
   "name": "python",
   "nbconvert_exporter": "python",
   "pygments_lexer": "ipython2",
   "version": "2.7.14"
  }
 },
 "nbformat": 4,
 "nbformat_minor": 2
}
