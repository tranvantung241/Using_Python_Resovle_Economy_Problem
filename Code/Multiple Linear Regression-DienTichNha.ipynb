{
 "cells": [
  {
   "cell_type": "code",
   "execution_count": 1,
   "metadata": {},
   "outputs": [
    {
     "name": "stderr",
     "output_type": "stream",
     "text": [
      "C:\\Users\\TranTung\\Anaconda3\\envs\\py27\\lib\\site-packages\\statsmodels\\compat\\pandas.py:56: FutureWarning: The pandas.core.datetools module is deprecated and will be removed in a future version. Please use the pandas.tseries module instead.\n",
      "  from pandas.core import datetools\n"
     ]
    }
   ],
   "source": [
    "import numpy as np\n",
    "\n",
    "import statsmodels.api as sm\n",
    "\n",
    "import statsmodels.formula.api as smf\n",
    "import pandas as pd"
   ]
  },
  {
   "cell_type": "code",
   "execution_count": 2,
   "metadata": {},
   "outputs": [
    {
     "name": "stdout",
     "output_type": "stream",
     "text": [
      "C:\\Users\\TranTung\\Desktop\\DuLieu\n"
     ]
    }
   ],
   "source": [
    "cd C:\\Users\\TranTung\\Desktop\\DuLieu "
   ]
  },
  {
   "cell_type": "code",
   "execution_count": 3,
   "metadata": {},
   "outputs": [
    {
     "name": "stderr",
     "output_type": "stream",
     "text": [
      "C:\\Users\\TranTung\\Anaconda3\\envs\\py27\\lib\\site-packages\\pandas\\util\\_decorators.py:118: FutureWarning: The `sheetname` keyword is deprecated, use `sheet_name` instead\n",
      "  return func(*args, **kwargs)\n"
     ]
    },
    {
     "data": {
      "text/html": [
       "<div>\n",
       "<style scoped>\n",
       "    .dataframe tbody tr th:only-of-type {\n",
       "        vertical-align: middle;\n",
       "    }\n",
       "\n",
       "    .dataframe tbody tr th {\n",
       "        vertical-align: top;\n",
       "    }\n",
       "\n",
       "    .dataframe thead th {\n",
       "        text-align: right;\n",
       "    }\n",
       "</style>\n",
       "<table border=\"1\" class=\"dataframe\">\n",
       "  <thead>\n",
       "    <tr style=\"text-align: right;\">\n",
       "      <th></th>\n",
       "      <th>Tên</th>\n",
       "      <th>DienTich(m2/Nguoi)</th>\n",
       "      <th>NangSuatLaoDong(NghinVND/Nguoi/thang)</th>\n",
       "      <th>ThuNhapBinhQuanDauNguoi(TrieuVND/Nguoi)</th>\n",
       "      <th>Nam</th>\n",
       "      <th>Nu</th>\n",
       "    </tr>\n",
       "  </thead>\n",
       "  <tbody>\n",
       "    <tr>\n",
       "      <th>0</th>\n",
       "      <td>2005</td>\n",
       "      <td>0.0</td>\n",
       "      <td>0</td>\n",
       "      <td>21.40</td>\n",
       "      <td>69.1</td>\n",
       "      <td>73.1</td>\n",
       "    </tr>\n",
       "    <tr>\n",
       "      <th>1</th>\n",
       "      <td>2006</td>\n",
       "      <td>16.9</td>\n",
       "      <td>1058</td>\n",
       "      <td>23.35</td>\n",
       "      <td>69.5</td>\n",
       "      <td>73.5</td>\n",
       "    </tr>\n",
       "    <tr>\n",
       "      <th>2</th>\n",
       "      <td>2007</td>\n",
       "      <td>0.0</td>\n",
       "      <td>0</td>\n",
       "      <td>25.30</td>\n",
       "      <td>69.8</td>\n",
       "      <td>73.7</td>\n",
       "    </tr>\n",
       "    <tr>\n",
       "      <th>3</th>\n",
       "      <td>2008</td>\n",
       "      <td>18.7</td>\n",
       "      <td>1605</td>\n",
       "      <td>32.00</td>\n",
       "      <td>72.5</td>\n",
       "      <td>76.4</td>\n",
       "    </tr>\n",
       "    <tr>\n",
       "      <th>4</th>\n",
       "      <td>2009</td>\n",
       "      <td>0.0</td>\n",
       "      <td>0</td>\n",
       "      <td>34.70</td>\n",
       "      <td>70.2</td>\n",
       "      <td>75.6</td>\n",
       "    </tr>\n",
       "    <tr>\n",
       "      <th>5</th>\n",
       "      <td>2010</td>\n",
       "      <td>20.7</td>\n",
       "      <td>2130</td>\n",
       "      <td>44.00</td>\n",
       "      <td>70.3</td>\n",
       "      <td>75.7</td>\n",
       "    </tr>\n",
       "    <tr>\n",
       "      <th>6</th>\n",
       "      <td>2011</td>\n",
       "      <td>0.0</td>\n",
       "      <td>0</td>\n",
       "      <td>55.20</td>\n",
       "      <td>70.4</td>\n",
       "      <td>75.8</td>\n",
       "    </tr>\n",
       "    <tr>\n",
       "      <th>7</th>\n",
       "      <td>2012</td>\n",
       "      <td>21.5</td>\n",
       "      <td>2989</td>\n",
       "      <td>63.10</td>\n",
       "      <td>70.4</td>\n",
       "      <td>75.8</td>\n",
       "    </tr>\n",
       "    <tr>\n",
       "      <th>8</th>\n",
       "      <td>2013</td>\n",
       "      <td>0.0</td>\n",
       "      <td>0</td>\n",
       "      <td>68.70</td>\n",
       "      <td>70.5</td>\n",
       "      <td>75.8</td>\n",
       "    </tr>\n",
       "    <tr>\n",
       "      <th>9</th>\n",
       "      <td>2014</td>\n",
       "      <td>24.0</td>\n",
       "      <td>3968</td>\n",
       "      <td>74.70</td>\n",
       "      <td>70.6</td>\n",
       "      <td>76.0</td>\n",
       "    </tr>\n",
       "    <tr>\n",
       "      <th>10</th>\n",
       "      <td>2015</td>\n",
       "      <td>0.0</td>\n",
       "      <td>0</td>\n",
       "      <td>79.40</td>\n",
       "      <td>70.7</td>\n",
       "      <td>76.1</td>\n",
       "    </tr>\n",
       "    <tr>\n",
       "      <th>11</th>\n",
       "      <td>2016</td>\n",
       "      <td>24.7</td>\n",
       "      <td>4368</td>\n",
       "      <td>84.50</td>\n",
       "      <td>70.8</td>\n",
       "      <td>78.1</td>\n",
       "    </tr>\n",
       "    <tr>\n",
       "      <th>12</th>\n",
       "      <td>2017</td>\n",
       "      <td>0.0</td>\n",
       "      <td>0</td>\n",
       "      <td>93.20</td>\n",
       "      <td>70.9</td>\n",
       "      <td>76.2</td>\n",
       "    </tr>\n",
       "  </tbody>\n",
       "</table>\n",
       "</div>"
      ],
      "text/plain": [
       "     Tên  DienTich(m2/Nguoi)  NangSuatLaoDong(NghinVND/Nguoi/thang)  \\\n",
       "0   2005                 0.0                                      0   \n",
       "1   2006                16.9                                   1058   \n",
       "2   2007                 0.0                                      0   \n",
       "3   2008                18.7                                   1605   \n",
       "4   2009                 0.0                                      0   \n",
       "5   2010                20.7                                   2130   \n",
       "6   2011                 0.0                                      0   \n",
       "7   2012                21.5                                   2989   \n",
       "8   2013                 0.0                                      0   \n",
       "9   2014                24.0                                   3968   \n",
       "10  2015                 0.0                                      0   \n",
       "11  2016                24.7                                   4368   \n",
       "12  2017                 0.0                                      0   \n",
       "\n",
       "    ThuNhapBinhQuanDauNguoi(TrieuVND/Nguoi)   Nam    Nu  \n",
       "0                                     21.40  69.1  73.1  \n",
       "1                                     23.35  69.5  73.5  \n",
       "2                                     25.30  69.8  73.7  \n",
       "3                                     32.00  72.5  76.4  \n",
       "4                                     34.70  70.2  75.6  \n",
       "5                                     44.00  70.3  75.7  \n",
       "6                                     55.20  70.4  75.8  \n",
       "7                                     63.10  70.4  75.8  \n",
       "8                                     68.70  70.5  75.8  \n",
       "9                                     74.70  70.6  76.0  \n",
       "10                                    79.40  70.7  76.1  \n",
       "11                                    84.50  70.8  78.1  \n",
       "12                                    93.20  70.9  76.2  "
      ]
     },
     "execution_count": 3,
     "metadata": {},
     "output_type": "execute_result"
    }
   ],
   "source": [
    "pd.read_excel('Data_DienTich_MultipleLinear.xlsx',sheetname=0)"
   ]
  },
  {
   "cell_type": "code",
   "execution_count": 4,
   "metadata": {},
   "outputs": [
    {
     "name": "stdout",
     "output_type": "stream",
     "text": [
      "<class 'pandas.core.frame.DataFrame'>\n",
      "RangeIndex: 13 entries, 0 to 12\n",
      "Data columns (total 6 columns):\n",
      "Tên                                        13 non-null int64\n",
      "DienTich(m2/Nguoi)                         13 non-null float64\n",
      "NangSuatLaoDong(NghinVND/Nguoi/thang)      13 non-null int64\n",
      "ThuNhapBinhQuanDauNguoi(TrieuVND/Nguoi)    13 non-null float64\n",
      "Nam                                        13 non-null float64\n",
      "Nu                                         13 non-null float64\n",
      "dtypes: float64(4), int64(2)\n",
      "memory usage: 696.0 bytes\n"
     ]
    }
   ],
   "source": [
    "x=pd.read_excel('Data_DienTich_MultipleLinear.xlsx')\n",
    "x.head()\n",
    "x.info()"
   ]
  },
  {
   "cell_type": "code",
   "execution_count": 5,
   "metadata": {
    "scrolled": true
   },
   "outputs": [
    {
     "name": "stdout",
     "output_type": "stream",
     "text": [
      "                            OLS Regression Results                            \n",
      "==============================================================================\n",
      "Dep. Variable:     DienTich(m2/Nguoi)   R-squared:                       0.931\n",
      "Model:                            OLS   Adj. R-squared:                  0.897\n",
      "Method:                 Least Squares   F-statistic:                     27.09\n",
      "Date:                Mon, 09 Jul 2018   Prob (F-statistic):           0.000106\n",
      "Time:                        19:56:12   Log-Likelihood:                -31.827\n",
      "No. Observations:                  13   AIC:                             73.65\n",
      "Df Residuals:                       8   BIC:                             76.48\n",
      "Df Model:                           4                                         \n",
      "Covariance Type:            nonrobust                                         \n",
      "===========================================================================================================\n",
      "                                              coef    std err          t      P>|t|      [0.025      0.975]\n",
      "-----------------------------------------------------------------------------------------------------------\n",
      "const                                     -94.9766    102.474     -0.927      0.381    -331.283     141.330\n",
      "NangSuatLaoDong(NghinVND/Nguoi/thang)       0.0070      0.001      9.120      0.000       0.005       0.009\n",
      "ThuNhapBinhQuanDauNguoi(TrieuVND/Nguoi)    -0.0675      0.069     -0.985      0.354      -0.225       0.091\n",
      "Nam                                         3.3333      2.074      1.607      0.147      -1.449       8.115\n",
      "Nu                                         -1.7891      1.914     -0.935      0.377      -6.202       2.624\n",
      "==============================================================================\n",
      "Omnibus:                        1.835   Durbin-Watson:                   2.981\n",
      "Prob(Omnibus):                  0.399   Jarque-Bera (JB):                0.953\n",
      "Skew:                           0.657   Prob(JB):                        0.621\n",
      "Kurtosis:                       2.821   Cond. No.                     2.07e+05\n",
      "==============================================================================\n",
      "\n",
      "Warnings:\n",
      "[1] Standard Errors assume that the covariance matrix of the errors is correctly specified.\n",
      "[2] The condition number is large, 2.07e+05. This might indicate that there are\n",
      "strong multicollinearity or other numerical problems.\n"
     ]
    },
    {
     "name": "stderr",
     "output_type": "stream",
     "text": [
      "C:\\Users\\TranTung\\Anaconda3\\envs\\py27\\lib\\site-packages\\scipy\\stats\\stats.py:1390: UserWarning: kurtosistest only valid for n>=20 ... continuing anyway, n=13\n",
      "  \"anyway, n=%i\" % int(n))\n"
     ]
    }
   ],
   "source": [
    "import statsmodels.api as sm # import statsmodels \n",
    "## Y usually means our output/dependent variable\n",
    "y = x[\"DienTich(m2/Nguoi)\"]\n",
    "## X usually means our input variables (or independent variables)\n",
    "X = x[[\"NangSuatLaoDong(NghinVND/Nguoi/thang)\",\"ThuNhapBinhQuanDauNguoi(TrieuVND/Nguoi)\",\"Nam\",\"Nu\"] ]\n",
    "X = sm.add_constant(X) ## let's add an intercept (beta_0) to our model\n",
    "\n",
    "# Note the difference in argument order\n",
    "model = sm.OLS(y, X).fit() ## sm.OLS(output, input)\n",
    "predictions = model.predict(X)\n",
    "# Print out the statistics\n",
    "print model.summary()"
   ]
  },
  {
   "cell_type": "code",
   "execution_count": null,
   "metadata": {},
   "outputs": [],
   "source": []
  }
 ],
 "metadata": {
  "kernelspec": {
   "display_name": "Python 2",
   "language": "python",
   "name": "python2"
  },
  "language_info": {
   "codemirror_mode": {
    "name": "ipython",
    "version": 2
   },
   "file_extension": ".py",
   "mimetype": "text/x-python",
   "name": "python",
   "nbconvert_exporter": "python",
   "pygments_lexer": "ipython2",
   "version": "2.7.14"
  }
 },
 "nbformat": 4,
 "nbformat_minor": 2
}
