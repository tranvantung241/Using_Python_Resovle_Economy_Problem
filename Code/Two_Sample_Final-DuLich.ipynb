{
 "cells": [
  {
   "cell_type": "code",
   "execution_count": 1,
   "metadata": {},
   "outputs": [],
   "source": [
    "import pandas as pd"
   ]
  },
  {
   "cell_type": "code",
   "execution_count": 2,
   "metadata": {},
   "outputs": [
    {
     "name": "stdout",
     "output_type": "stream",
     "text": [
      "C:\\Users\\TranTung\\Desktop\\DuLieu\n"
     ]
    }
   ],
   "source": [
    " cd C:\\Users\\TranTung\\Desktop\\DuLieu "
   ]
  },
  {
   "cell_type": "code",
   "execution_count": 3,
   "metadata": {},
   "outputs": [
    {
     "name": "stderr",
     "output_type": "stream",
     "text": [
      "C:\\Users\\TranTung\\Anaconda3\\envs\\py27\\lib\\site-packages\\pandas\\util\\_decorators.py:118: FutureWarning: The `sheetname` keyword is deprecated, use `sheet_name` instead\n",
      "  return func(*args, **kwargs)\n"
     ]
    }
   ],
   "source": [
    " data = pd.read_excel(r\"Data_DuLich_TwoSample.xlsx\", sheetname=0)"
   ]
  },
  {
   "cell_type": "code",
   "execution_count": 4,
   "metadata": {},
   "outputs": [
    {
     "data": {
      "text/html": [
       "<div>\n",
       "<style scoped>\n",
       "    .dataframe tbody tr th:only-of-type {\n",
       "        vertical-align: middle;\n",
       "    }\n",
       "\n",
       "    .dataframe tbody tr th {\n",
       "        vertical-align: top;\n",
       "    }\n",
       "\n",
       "    .dataframe thead th {\n",
       "        text-align: right;\n",
       "    }\n",
       "</style>\n",
       "<table border=\"1\" class=\"dataframe\">\n",
       "  <thead>\n",
       "    <tr style=\"text-align: right;\">\n",
       "      <th></th>\n",
       "      <th>Ten</th>\n",
       "      <th>Nam_2015</th>\n",
       "      <th>Nam_2016</th>\n",
       "      <th>Nam_2017</th>\n",
       "      <th>Nam_2018</th>\n",
       "    </tr>\n",
       "  </thead>\n",
       "  <tbody>\n",
       "    <tr>\n",
       "      <th>0</th>\n",
       "      <td>Duong_khong</td>\n",
       "      <td>561883</td>\n",
       "      <td>659394</td>\n",
       "      <td>834975</td>\n",
       "      <td>1150969.0</td>\n",
       "    </tr>\n",
       "    <tr>\n",
       "      <th>1</th>\n",
       "      <td>Duong_khong</td>\n",
       "      <td>610834</td>\n",
       "      <td>667321</td>\n",
       "      <td>984013</td>\n",
       "      <td>1145961.0</td>\n",
       "    </tr>\n",
       "    <tr>\n",
       "      <th>2</th>\n",
       "      <td>Duong_khong</td>\n",
       "      <td>538554</td>\n",
       "      <td>659846</td>\n",
       "      <td>812594</td>\n",
       "      <td>1068785.0</td>\n",
       "    </tr>\n",
       "    <tr>\n",
       "      <th>3</th>\n",
       "      <td>Duong_khong</td>\n",
       "      <td>534507</td>\n",
       "      <td>661484</td>\n",
       "      <td>879864</td>\n",
       "      <td>1068792.0</td>\n",
       "    </tr>\n",
       "    <tr>\n",
       "      <th>4</th>\n",
       "      <td>Duong_khong</td>\n",
       "      <td>458758</td>\n",
       "      <td>643894</td>\n",
       "      <td>847525</td>\n",
       "      <td>NaN</td>\n",
       "    </tr>\n",
       "  </tbody>\n",
       "</table>\n",
       "</div>"
      ],
      "text/plain": [
       "           Ten  Nam_2015  Nam_2016  Nam_2017   Nam_2018\n",
       "0  Duong_khong    561883    659394    834975  1150969.0\n",
       "1  Duong_khong    610834    667321    984013  1145961.0\n",
       "2  Duong_khong    538554    659846    812594  1068785.0\n",
       "3  Duong_khong    534507    661484    879864  1068792.0\n",
       "4  Duong_khong    458758    643894    847525        NaN"
      ]
     },
     "execution_count": 4,
     "metadata": {},
     "output_type": "execute_result"
    }
   ],
   "source": [
    " data.head()"
   ]
  },
  {
   "cell_type": "code",
   "execution_count": 5,
   "metadata": {},
   "outputs": [
    {
     "data": {
      "text/plain": [
       "Ttest_indResult(statistic=28.583367300867373, pvalue=1.243530517018681e-13)"
      ]
     },
     "execution_count": 5,
     "metadata": {},
     "output_type": "execute_result"
    }
   ],
   "source": [
    "import numpy as np\n",
    "import pandas as pd\n",
    "import matplotlib.pyplot as plt\n",
    "import seaborn as sns\n",
    "import scipy.stats as stats \n",
    "\n",
    "\n",
    "DuongKhong_Sat = data[data['Ten'] == 'Duong_khong']['Nam_2017'].dropna()\n",
    "DuongBo_Sat = data[data['Ten'] == 'Duong_bo']['Nam_2017'].dropna()\n",
    "data_gender = data.groupby(['Ten'])\n",
    "data_gender.boxplot(column=['Nam_2017'])\n",
    "#DuongBien_Sat = data[data['Ten'] == 'Duong_bien']['Nam_2017'].dropna()\n",
    "# paired 2 sample t-test\n",
    "stats.ttest_ind(DuongKhong_Sat,DuongBo_Sat, equal_var=False)\n"
   ]
  },
  {
   "cell_type": "code",
   "execution_count": 6,
   "metadata": {},
   "outputs": [
    {
     "data": {
      "text/plain": [
       "<matplotlib.axes._subplots.AxesSubplot at 0xc183a20>"
      ]
     },
     "execution_count": 6,
     "metadata": {},
     "output_type": "execute_result"
    },
    {
     "data": {
      "image/png": "[encoded data removed]",
      "text/plain": [
       "<matplotlib.figure.Figure at 0x68ae780>"
      ]
     },
     "metadata": {},
     "output_type": "display_data"
    }
   ],
   "source": [
    "import seaborn as sns\n",
    "sns.boxplot(x=('Ten'), y='Nam_2017', data=data)"
   ]
  },
  {
   "cell_type": "code",
   "execution_count": null,
   "metadata": {},
   "outputs": [],
   "source": []
  }
 ],
 "metadata": {
  "kernelspec": {
   "display_name": "Python 2",
   "language": "python",
   "name": "python2"
  },
  "language_info": {
   "codemirror_mode": {
    "name": "ipython",
    "version": 2
   },
   "file_extension": ".py",
   "mimetype": "text/x-python",
   "name": "python",
   "nbconvert_exporter": "python",
   "pygments_lexer": "ipython2",
   "version": "2.7.14"
  }
 },
 "nbformat": 4,
 "nbformat_minor": 2
}
