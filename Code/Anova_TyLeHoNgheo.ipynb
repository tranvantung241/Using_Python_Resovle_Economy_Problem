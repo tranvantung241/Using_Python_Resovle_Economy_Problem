{
 "cells": [
  {
   "cell_type": "code",
   "execution_count": 1,
   "metadata": {},
   "outputs": [
    {
     "name": "stderr",
     "output_type": "stream",
     "text": [
      "C:\\Users\\TranTung\\Anaconda3\\envs\\py27\\lib\\site-packages\\statsmodels\\compat\\pandas.py:56: FutureWarning: The pandas.core.datetools module is deprecated and will be removed in a future version. Please use the pandas.tseries module instead.\n",
      "  from pandas.core import datetools\n"
     ]
    }
   ],
   "source": [
    "import pandas as pd\n",
    "import statsmodels.api as sm\n",
    "from statsmodels.formula.api import ols "
   ]
  },
  {
   "cell_type": "code",
   "execution_count": 2,
   "metadata": {},
   "outputs": [
    {
     "name": "stdout",
     "output_type": "stream",
     "text": [
      "C:\\Users\\TranTung\\Desktop\\DuLieu\n"
     ]
    }
   ],
   "source": [
    " cd C:\\Users\\TranTung\\Desktop\\DuLieu"
   ]
  },
  {
   "cell_type": "code",
   "execution_count": 3,
   "metadata": {},
   "outputs": [],
   "source": [
    "HoNgheo = pd.read_csv('Data_TyLeHoNgheo_Anova.csv')"
   ]
  },
  {
   "cell_type": "code",
   "execution_count": 4,
   "metadata": {},
   "outputs": [
    {
     "data": {
      "text/html": [
       "<div>\n",
       "<style scoped>\n",
       "    .dataframe tbody tr th:only-of-type {\n",
       "        vertical-align: middle;\n",
       "    }\n",
       "\n",
       "    .dataframe tbody tr th {\n",
       "        vertical-align: top;\n",
       "    }\n",
       "\n",
       "    .dataframe thead th {\n",
       "        text-align: right;\n",
       "    }\n",
       "</style>\n",
       "<table border=\"1\" class=\"dataframe\">\n",
       "  <thead>\n",
       "    <tr style=\"text-align: right;\">\n",
       "      <th></th>\n",
       "      <th>TyLe</th>\n",
       "      <th>DiaDiem</th>\n",
       "    </tr>\n",
       "  </thead>\n",
       "  <tbody>\n",
       "    <tr>\n",
       "      <th>0</th>\n",
       "      <td>42.5</td>\n",
       "      <td>Bac Trung Bo Va Duyen Hai Mien Trung</td>\n",
       "    </tr>\n",
       "    <tr>\n",
       "      <th>1</th>\n",
       "      <td>35.7</td>\n",
       "      <td>Bac Trung Bo Va Duyen Hai Mien Trung</td>\n",
       "    </tr>\n",
       "    <tr>\n",
       "      <th>2</th>\n",
       "      <td>25.3</td>\n",
       "      <td>Bac Trung Bo Va Duyen Hai Mien Trung</td>\n",
       "    </tr>\n",
       "    <tr>\n",
       "      <th>3</th>\n",
       "      <td>22.2</td>\n",
       "      <td>Bac Trung Bo Va Duyen Hai Mien Trung</td>\n",
       "    </tr>\n",
       "    <tr>\n",
       "      <th>4</th>\n",
       "      <td>19.2</td>\n",
       "      <td>Bac Trung Bo Va Duyen Hai Mien Trung</td>\n",
       "    </tr>\n",
       "  </tbody>\n",
       "</table>\n",
       "</div>"
      ],
      "text/plain": [
       "   TyLe                               DiaDiem\n",
       "0  42.5  Bac Trung Bo Va Duyen Hai Mien Trung\n",
       "1  35.7  Bac Trung Bo Va Duyen Hai Mien Trung\n",
       "2  25.3  Bac Trung Bo Va Duyen Hai Mien Trung\n",
       "3  22.2  Bac Trung Bo Va Duyen Hai Mien Trung\n",
       "4  19.2  Bac Trung Bo Va Duyen Hai Mien Trung"
      ]
     },
     "execution_count": 4,
     "metadata": {},
     "output_type": "execute_result"
    }
   ],
   "source": [
    "HoNgheo.head()"
   ]
  },
  {
   "cell_type": "code",
   "execution_count": 5,
   "metadata": {},
   "outputs": [
    {
     "name": "stdout",
     "output_type": "stream",
     "text": [
      "               sum_sq    df          F    PR(>F)\n",
      "DiaDiem   3108.810000   3.0  10.641367  0.000022\n",
      "Residual  4284.776667  44.0        NaN       NaN\n"
     ]
    }
   ],
   "source": [
    "cw_lm=ols('TyLe ~ DiaDiem ', data=HoNgheo).fit() \n",
    "print(sm.stats.anova_lm(cw_lm, typ=2))"
   ]
  },
  {
   "cell_type": "code",
   "execution_count": 6,
   "metadata": {},
   "outputs": [],
   "source": [
    "from statsmodels.stats.multicomp import pairwise_tukeyhsd\n",
    "from statsmodels.stats.multicomp import MultiComparison"
   ]
  },
  {
   "cell_type": "code",
   "execution_count": 7,
   "metadata": {},
   "outputs": [
    {
     "name": "stdout",
     "output_type": "stream",
     "text": [
      "                      Multiple Comparison of Means - Tukey HSD,FWER=0.05                     \n",
      "=============================================================================================\n",
      "               group1                         group2         meandiff  lower    upper  reject\n",
      "---------------------------------------------------------------------------------------------\n",
      "Bac Trung Bo Va Duyen Hai Mien Trung Dong Bang Song Cuu Long   -6.7   -17.4573  4.0573 False \n",
      "Bac Trung Bo Va Duyen Hai Mien Trung       Dong Nam Bo        -17.4   -28.1573 -6.6427  True \n",
      "Bac Trung Bo Va Duyen Hai Mien Trung        Tay Nguyen         3.8    -6.9573  14.5573 False \n",
      "      Dong Bang Song Cuu Long              Dong Nam Bo        -10.7   -21.4573  0.0573 False \n",
      "      Dong Bang Song Cuu Long               Tay Nguyen         10.5   -0.2573  21.2573 False \n",
      "            Dong Nam Bo                     Tay Nguyen         21.2   10.4427  31.9573  True \n",
      "---------------------------------------------------------------------------------------------\n",
      "['Bac Trung Bo Va Duyen Hai Mien Trung' 'Dong Bang Song Cuu Long'\n",
      " 'Dong Nam Bo' 'Tay Nguyen']\n"
     ]
    }
   ],
   "source": [
    "mc = MultiComparison(HoNgheo['TyLe'], HoNgheo['DiaDiem'])\n",
    "result = mc.tukeyhsd()\n",
    " \n",
    "print(result)\n",
    "print(mc.groupsunique)"
   ]
  },
  {
   "cell_type": "code",
   "execution_count": 8,
   "metadata": {},
   "outputs": [],
   "source": [
    "import matplotlib.pyplot as pl\n",
    "import seaborn as sns"
   ]
  },
  {
   "cell_type": "code",
   "execution_count": 9,
   "metadata": {},
   "outputs": [
    {
     "data": {
      "image/png": "[encoded data removed]",
      "text/plain": [
       "<matplotlib.figure.Figure at 0xb07fba8>"
      ]
     },
     "metadata": {},
     "output_type": "display_data"
    }
   ],
   "source": [
    " ax = sns.boxplot(x = 'DiaDiem', y= 'TyLe', data = HoNgheo)"
   ]
  },
  {
   "cell_type": "code",
   "execution_count": 1,
   "metadata": {},
   "outputs": [],
   "source": [
    "# import matplotlib.pyplot as pl\n",
    "# import numpy as np \n",
    "# from scipy import stats\n",
    "# from statsmodels.stats.multicomp import (pairwise_tukeyhsd,MultiComparison)\n",
    "\n",
    "# res2 = pairwise_tukeyhsd(HoNgheo['TyLe'], HoNgheo['DiaDiem'])\n",
    "# mod = MultiComparison(HoNgheo['TyLe'], HoNgheo['DiaDiem'])\n",
    " \n",
    "# pl.plot([0,1,2], res2[1][2], 'o')\n",
    "# pl.errorbar([0,1,2], res2[1][2], yerr=np.abs(res2[1][4].T-res2[1][2]), ls='o')\n",
    "# xlim = -0.5, 2.5\n",
    "# pl.hlines(0, *xlim)\n",
    "# pl.xlim(*xlim)\n",
    "# pair_labels = mod.groupsunique[np.column_stack(res2[1][0])]\n",
    "# pl.xticks([0,1,2], pair_labels)\n",
    "# pl.title('Multiple Comparison of Means - Tukey HSD, FWER=0.05' +\n",
    "#           '\\n Pairwise Mean Differences')"
   ]
  },
  {
   "cell_type": "code",
   "execution_count": null,
   "metadata": {},
   "outputs": [],
   "source": [
    " "
   ]
  }
 ],
 "metadata": {
  "kernelspec": {
   "display_name": "Python 2",
   "language": "python",
   "name": "python2"
  },
  "language_info": {
   "codemirror_mode": {
    "name": "ipython",
    "version": 2
   },
   "file_extension": ".py",
   "mimetype": "text/x-python",
   "name": "python",
   "nbconvert_exporter": "python",
   "pygments_lexer": "ipython2",
   "version": "2.7.14"
  }
 },
 "nbformat": 4,
 "nbformat_minor": 2
}
