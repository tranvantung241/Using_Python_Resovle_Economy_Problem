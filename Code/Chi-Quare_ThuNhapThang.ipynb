{
 "cells": [
  {
   "cell_type": "code",
   "execution_count": 2,
   "metadata": {},
   "outputs": [],
   "source": [
    "import pandas as pd\n",
    "import numpy as np"
   ]
  },
  {
   "cell_type": "code",
   "execution_count": 3,
   "metadata": {},
   "outputs": [
    {
     "name": "stdout",
     "output_type": "stream",
     "text": [
      "C:\\Users\\TranTung\\Desktop\\DuLieu\n"
     ]
    }
   ],
   "source": [
    " cd C:\\Users\\TranTung\\Desktop\\DuLieu "
   ]
  },
  {
   "cell_type": "code",
   "execution_count": 5,
   "metadata": {},
   "outputs": [
    {
     "data": {
      "text/plain": [
       "(323.8983406038088,\n",
       " 7.558248082526123e-69,\n",
       " 4L,\n",
       " array([[2997.70574748,  154.49266279, 1329.80158973],\n",
       "        [2522.16608071,  129.98479058, 1118.84912871],\n",
       "        [3231.12817181,  166.52254662, 1433.34928157]]))"
      ]
     },
     "execution_count": 5,
     "metadata": {},
     "output_type": "execute_result"
    }
   ],
   "source": [
    "a = np.array([[3120, 302, 1060], [2382, 88, 1301],[3249, 61, 1521]])\n",
    "\n",
    "from scipy.stats import chi2_contingency\n",
    "chi2_contingency(a)"
   ]
  },
  {
   "cell_type": "code",
   "execution_count": null,
   "metadata": {},
   "outputs": [],
   "source": []
  }
 ],
 "metadata": {
  "kernelspec": {
   "display_name": "Python 2",
   "language": "python",
   "name": "python2"
  },
  "language_info": {
   "codemirror_mode": {
    "name": "ipython",
    "version": 2
   },
   "file_extension": ".py",
   "mimetype": "text/x-python",
   "name": "python",
   "nbconvert_exporter": "python",
   "pygments_lexer": "ipython2",
   "version": "2.7.14"
  }
 },
 "nbformat": 4,
 "nbformat_minor": 2
}
